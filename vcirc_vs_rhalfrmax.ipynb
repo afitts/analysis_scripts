{
 "cells": [
  {
   "cell_type": "markdown",
   "metadata": {},
   "source": [
    "# Welcome to my first jupyter notebook"
   ]
  },
  {
   "cell_type": "code",
   "execution_count": 5,
   "metadata": {
    "collapsed": true
   },
   "outputs": [],
   "source": [
    "import numpy as np\n",
    "import sys \n",
    "import glob\n",
    "import matplotlib.pyplot as plt\n",
    "import matplotlib.cm as cm\n",
    "import pylab\n",
    "import pygadgetreader as pg \n",
    "import scipy.integrate"
   ]
  },
  {
   "cell_type": "markdown",
   "metadata": {},
   "source": [
    "These two functions are simply for calculating a_dot and 1 over that"
   ]
  },
  {
   "cell_type": "code",
   "execution_count": 6,
   "metadata": {
    "collapsed": true
   },
   "outputs": [],
   "source": [
    "def _a_dot(a, h0, om_m, om_l):\n",
    "    om_k = 1.0 - om_m - om_l\n",
    "    return h0 * a * np.sqrt(om_m * (a ** -3) + om_k * (a ** -2) + om_l)"
   ]
  },
  {
   "cell_type": "code",
   "execution_count": 7,
   "metadata": {
    "collapsed": true
   },
   "outputs": [],
   "source": [
    "def _a_dot_recip(*args):\n",
    "    return 1. / _a_dot(*args)"
   ]
  },
  {
   "cell_type": "markdown",
   "metadata": {},
   "source": [
    "Radpro pulls all the halos from the AHF halo files and finds the halo I'm interested in from the megerhist file. Ultimately it passes the data necessary to make radial density profile plots AND makes the vcirc vs rhalf/rmax plot."
   ]
  },
  {
   "cell_type": "code",
   "execution_count": 8,
   "metadata": {
    "collapsed": true
   },
   "outputs": [],
   "source": [
    "def radpro(pathname,sname,hist,dmo,rhalf,rmax):\n",
    "  global i, grain, clr, count,conv\n",
    "  numcores = 16\n",
    "  massp = 1.67262178e-24 #in grams\n",
    "  gamma = 5./3.\n",
    "  kb = 1.3806e-26 #in km^2*g/s^2 \n",
    "  G = 4.3e-6 #in kpc/M_sun (km/s)^2   \n",
    "  switch = 0\n",
    "  for j in np.arange(numcores): #Bring together all the AHF files for the snapshot\n",
    "    temph = glob.glob(pathname+'ahf_snap%03d/ahf.snap_%03d.%04d.z*.*.AHF_halos'%(i,i,j)) \n",
    "    temph = str(temph).strip('[]').replace(\"'\",\"\")\n",
    "    h = np.genfromtxt(temph)\n",
    "    temppr = glob.glob(pathname+'ahf_snap%03d/ahf.snap_%03d.%04d.z*.*.AHF_profiles'%(i,i,j))\n",
    "    temppr = str(temppr).strip('[]').replace(\"'\",\"\")\n",
    "    p = np.genfromtxt(temppr)\n",
    "    if switch == 0:\n",
    "      halo = h\n",
    "      switch = 1\n",
    "    if switch == 1:\n",
    "      try:\n",
    "        halo = np.vstack((halo,h))\n",
    "      except:\n",
    "        print \"nothing there\"\n",
    "  for j in np.arange(len(halo)): #Find our halo from all the halos of the snapshot\n",
    "    if halo[j,0] == hist[184-i,1]:\n",
    "      mstar = halo[j,64]\n",
    "      mvir = halo[j,3]\n",
    "      vmax = halo[j,16]\n",
    "      xcen = halo[j,5] #Grab relevant data (can always add more later)\n",
    "      ycen = halo[j,6]\n",
    "      zcen = halo[j,7]\n",
    "      rvir = halo[j,11]/.71\n",
    "      mass = pg.readsnap(sname, 'mass', 'dm')*1.e10/.71\n",
    "      pos = pg.readsnap(sname, 'pos', 'dm')*conv\n",
    "      tmp = np.array([0,0])\n",
    "      diff = np.sqrt((pos[:,0]-xcen)**2+(pos[:,1]-ycen)**2+(pos[:,2]-zcen)**2)/.71\n",
    "      mass = mass[diff<=rvir]\n",
    "      diff = diff[diff<=rvir]\n",
    "      cum = np.cumsum(mass[np.argsort(diff)])\n",
    "\n",
    "      print xcen,ycen,zcen, np.sort(diff)\n",
    "      binz = np.logspace(np.log10(.06),np.log10(rvir),grain)\n",
    "      massall, bin_edge = np.histogram( diff,bins=binz, weights =mass) \n",
    "      x = 10**(np.log10(binz[1:])-np.log10(binz[1]/binz[0])/2)\n",
    "      if dmo == 0:\n",
    "        rmax = halo[j,12]/.71\n",
    "        gmass = pg.readsnap(sname, 'mass', 'gas')*1.e10/.71\n",
    "        smass = pg.readsnap(sname, 'mass', 'star')*1.e10/.71\n",
    "        gpos = pg.readsnap(sname, 'pos', 'gas')*conv\n",
    "        spos = pg.readsnap(sname, 'pos', 'star')*conv\n",
    "        sdiff = np.sqrt((spos[:,0]-xcen)**2+(spos[:,1]-ycen)**2+(spos[:,2]-zcen)**2)/.71\n",
    "        gdiff = np.sqrt((gpos[:,0]-xcen)**2+(gpos[:,1]-ycen)**2+(gpos[:,2]-zcen)**2)/.71\n",
    "\tsmass = smass[sdiff<=rvir]\n",
    "\tgmass = gmass[gdiff<=rvir]\n",
    "\tsdiff = sdiff[sdiff<=rvir]\n",
    "\tgdiff = gdiff[gdiff<=rvir]\n",
    "\tscum = np.cumsum(smass[np.argsort(sdiff)])\n",
    "\tgcum = np.cumsum(gmass[np.argsort(gdiff)])\n",
    "\ttotdiff = np.append(np.append(diff,sdiff),gdiff)\n",
    "\ttotmass = np.append(np.append(mass,smass),gmass)\n",
    "\ttotcum = np.cumsum(totmass[np.argsort(totdiff)])\n",
    "\tirhalf = abs(scum-sum(smass)/2).argmin()\n",
    "\trhalf = sdiff[np.argsort(sdiff)][irhalf]\n",
    "\titotrhalf = abs(np.sort(totdiff)-rhalf).argmin()\n",
    "\tprint 'rhalf is %f'%rhalf\n",
    "\tirmax = np.sqrt(G*totcum/np.sort(totdiff)).argmax()\n",
    "\trmax = totdiff[np.argsort(totdiff)][irmax]\n",
    "\tprint 'rmax is %f'%rmax\n",
    "\n",
    "\n",
    "\t#print len(sdiff), binz, len(smass)\n",
    "        gmassall, bin_edge = np.histogram( gdiff,bins=binz, weights =gmass) \n",
    "        smassall, bin_edge = np.histogram( sdiff,bins=binz, weights =smass)\n",
    "\t#irhalf = (abs(bin_edge-max(bin_edge[np.cumsum(smassall)<=sum(smassall)/2]))).argmin()\n",
    "\n",
    "        #print bin_edge[np.cumsum(smassall)<=sum(smassall)/2],rvir,sum(smassall)#sum(smassall), np.cumsum(smassall) #x[irhalf],np.sqrt(G*sum(massall[:irhalf+1])/x[irhalf])\n",
    "        ax1.scatter(rhalf,np.sqrt(G*totcum[itotrhalf]/rhalf),marker='s',s = 80,color='%s'%clr[count],label='%s'%(hnum))\n",
    "        #ax1.scatter(rmax,np.sqrt(G*totcum[irmax]/rmax),marker='D',s = 80,color='%s'%clr[count],label='%s Rmax'%(hnum))\n",
    "        return massall, gmassall, smassall, x, rhalf,rmax\n",
    "      else:\n",
    "        massall = 0.83120300751*massall\n",
    "\tirhalf = (abs(np.sort(diff)-rhalf)).argmin()\n",
    "\tirmax = (abs(np.sort(diff)-rmax)).argmin()\n",
    "\tprint np.sqrt(G*cum[irhalf]/rhalf), np.sqrt(G*cum[irmax]/rmax)\n",
    "\tax1.scatter(rhalf,np.sqrt(G*cum[irhalf]/rhalf),marker='^',s = 80,color='%s'%clr[count],label='%s DMO'%(hnum))\n",
    "\t#ax1.scatter(rmax,np.sqrt(G*cum[irmax]/rmax),marker='v',s = 80,color='%s'%clr[count],label='%s DMO Rmax'%(hnum))\n",
    "        count +=1\n",
    "        return massall, x"
   ]
  },
  {
   "cell_type": "markdown",
   "metadata": {},
   "source": [
    "Plot radpro is what actually creates the radial density profiles"
   ]
  },
  {
   "cell_type": "code",
   "execution_count": null,
   "metadata": {
    "collapsed": true
   },
   "outputs": [],
   "source": [
    "def plot_radpro(hnum,hymass,hygmass,hysmass,hyx,dmomass,dmox):\n",
    "  pylab.rcParams['xtick.major.pad']='6'\n",
    "  pylab.rcParams['ytick.major.pad']='6'\n",
    "  fig = plt.figure()\n",
    "  ax = fig.add_subplot(111)\n",
    "  hytot = hymass+hygmass+hysmass\n",
    "  ax.loglog(hyx,hytot/(4*3.14159/3*hyx**3), 'k',linewidth=4,label = '11_13(ff) MFM')#(4*3.14159/3*hyx**3)\n",
    "  #ax.loglog(x9_17,y9_17, 'b',linewidth=4,label = '9_17 MFM')\n",
    "  #ax.loglog(x6_2,y6_2, 'g',linewidth=4,label = '6_2 MFM')\n",
    "  #ax.loglog(x11_13,y11_13-g11_13-s11_13, 'b',linewidth=4,label = 'MFM DM')\n",
    "  #ax.loglog(x11_13,g11_13, 'r',linewidth=4,label = 'MFM gas')\n",
    "  #ax.loglog(x11_13,s11_13, 'y',linewidth=4,label = 'MFM star')\n",
    "  #ax.loglog(dmox,dmoy, 'g--',linewidth=4, label = 'DMO (corrected)')\n",
    "  ax.loglog(hyx,dmomass/(4*3.14159/3*hyx**3), 'r--',linewidth=4, label = 'DMO')\n",
    "  ax.spines['bottom'].set_linewidth(4)\n",
    "  ax.spines['top'].set_linewidth(4)\n",
    "  ax.spines['right'].set_linewidth(4)\n",
    "  ax.spines['left'].set_linewidth(4)\n",
    "  ax.tick_params('both',length=5,width=2,which='minor')\n",
    "  ax.tick_params('both',length=10,width=2,which='major')\n",
    "  ax.xaxis.set_tick_params(labelsize=20)\n",
    "  ax.yaxis.set_tick_params(labelsize=20)\n",
    "  plt.xlabel('Radius (kpc)',fontsize=20, labelpad=-10)\n",
    "  ax.xaxis.set_label_coords(.48,-.07)\n",
    "  plt.ylabel(r'$\\rho (M_\\odot$/kpc$^3$)',fontsize=20, labelpad=-5)\n",
    "  #plt.ylabel(r'$M_\\odot/M_{DM,corrected}$',fontsize=20, labelpad=-5)\n",
    "  plt.title('Halo %s Radial M(<r) (%d bins) Profile'%(hnum,grain))\n",
    "  plt.xlim(.06,60)\n",
    "  plt.ylim(1e4,1e9)\n",
    "  #plt.ylim(1e-1,2e0)\n",
    "  plt.legend(loc=3,prop={'size':10})\n",
    "  #fname = 'm_enc_ratio_halo%s_%dbin_12_16_z0.pdf'%(hnum,grain)\n",
    "  fname = 'radden_halo%s_%dbin_1_11_z0.pdf'%(hnum,grain)\n",
    "  plt.savefig(fname,transparent=True)\n",
    "  plt.show()\n",
    "  plt.close()\n",
    "  return True"
   ]
  },
  {
   "cell_type": "markdown",
   "metadata": {},
   "source": [
    "Below are all the halos currently being plotted. "
   ]
  },
  {
   "cell_type": "code",
   "execution_count": 9,
   "metadata": {
    "collapsed": true
   },
   "outputs": [],
   "source": [
    "grain = 60\n",
    "i = 184\n",
    "h0 = 71\n",
    "om_l = 0.734\n",
    "om_m = 0.266\n",
    "conv = 3.085677581e+19\n",
    "fig1 = plt.figure()\n",
    "ax1 = fig1.add_subplot(111)\n",
    "clr = ['r','b','k','g','y','m']\n",
    "count = 0"
   ]
  },
  {
   "cell_type": "code",
   "execution_count": 10,
   "metadata": {
    "collapsed": false
   },
   "outputs": [
    {
     "name": "stdout",
     "output_type": "stream",
     "text": [
      "Returning DM    Mass\n",
      "Returning DM    Positions\n",
      "2294.59483773 2112.96809117 2323.62870453 [  8.72695906e-03   2.11494752e-02   2.70153337e-02 ...,   5.04083993e+01\n",
      "   5.04084142e+01   5.04084419e+01]\n",
      "Returning GAS   Mass\n",
      "Returning STAR  Mass\n",
      "Returning GAS   Positions\n",
      "Returning STAR  Positions\n",
      "rhalf is 0.832233\n",
      "rmax is 7.963169\n",
      "Returning DM    Mass\n",
      "Returning DM    Positions\n",
      "2305.25045329 2096.08853039 2302.48678561 [  1.42089117e-02   1.65638231e-02   1.91303020e-02 ...,   5.44084342e+01\n",
      "   5.44084388e+01   5.44084479e+01]\n",
      "27.2776972154 37.2999568751\n"
     ]
    }
   ],
   "source": [
    "conv = 1\n",
    "hnum = '007'\n",
    "res = '_11'\n",
    "ver = '11_13'\n",
    "pathname = '/nobackup/afitts/Gadget-2.0.7/production/mfm%s%s_giz%s_raw_output/analysis/'%(hnum,res,ver)\n",
    "sname = \"/nobackup/afitts/Gadget-2.0.7/production/mfm%s%s_giz%s_raw_output/snapdir_%03d/snapshot_%03d\"%(hnum,res,ver,i,i)\n",
    "hist = np.genfromtxt(pathname+'halo%smerger_hist.txt'%hnum)\n",
    "hymass,hygmass,hysmass,hyx,irhalf,rmax= radpro(pathname,sname,hist,0,0,0)\n",
    "\n",
    "conv = 1000\n",
    "pathname = '/nobackup/afitts/Gadget-2.0.7/production/gizdm%s%s_raw_output/analysis/'%(hnum,res)\n",
    "sname = \"/nobackup/afitts/Gadget-2.0.7/production/gizdm%s%s_raw_output/snapdir_%03d/snapshot_%03d\"%(hnum,res,i,i)\n",
    "hist = np.genfromtxt(pathname+'halo%smerger_hist.txt'%hnum)\n",
    "dmomass,dmox = radpro(pathname,sname,hist,1,irhalf,rmax)\n",
    "#plot_radpro(hnum,hymass,hygmass,hysmass,hyx,dmomass,dmox)"
   ]
  },
  {
   "cell_type": "code",
   "execution_count": 11,
   "metadata": {
    "collapsed": false
   },
   "outputs": [
    {
     "name": "stdout",
     "output_type": "stream",
     "text": [
      "Returning DM    Mass\n",
      "Returning DM    Positions\n",
      "12300.2891199 14698.8985763 11829.8025667 [  1.17761206e-02   2.07637543e-02   2.18972337e-02 ...,   5.25914193e+01\n",
      "   5.25914679e+01   5.25914962e+01]\n",
      "Returning GAS   Mass\n",
      "Returning STAR  Mass\n",
      "Returning GAS   Positions\n",
      "Returning STAR  Positions\n",
      "rhalf is 0.371809\n",
      "rmax is 12.139229\n",
      "Returning DM    Mass\n",
      "Returning DM    Positions\n",
      "12293.8093382 14700.5033977 11830.9886683 [  1.27115149e-02   2.18708866e-02   2.55220368e-02 ...,   5.75491696e+01\n",
      "   5.75491903e+01   5.75492003e+01]\n",
      "18.7846431946 34.7311124949\n"
     ]
    }
   ],
   "source": [
    "hnum = '2'\n",
    "res = '_13'\n",
    "ver = '11_13'\n",
    "pathname = '/nobackup/afitts/Gadget-2.0.7/production/mfm%s%s_giz%s_raw_output/analysis/'%(hnum,res,ver)\n",
    "sname = \"/nobackup/afitts/Gadget-2.0.7/production/mfm%s%s_giz%s_raw_output/snapdir_%03d/snapshot_%03d\"%(hnum,res,ver,i,i)\n",
    "hist = np.genfromtxt(pathname+'halo%smerger_hist.txt'%hnum)\n",
    "hymass,hygmass,hysmass,hyx,irhalf, rmax= radpro(pathname,sname,hist,0,0,0)\n",
    "\n",
    "pathname = '/nobackup/afitts/Gadget-2.0.7/production/gizdm%s%s_raw_output/analysis/'%(hnum,res)\n",
    "sname = \"/nobackup/afitts/Gadget-2.0.7/production/gizdm%s%s_raw_output/snapdir_%03d/snapshot_%03d\"%(hnum,res,i,i)\n",
    "hist = np.genfromtxt(pathname+'halo%smerger_hist.txt'%hnum)\n",
    "dmomass,dmox = radpro(pathname,sname,hist,1,irhalf,rmax)\n",
    "#plot_radpro(hnum,hymass,hygmass,hysmass,hyx,dmomass,dmox)"
   ]
  },
  {
   "cell_type": "code",
   "execution_count": 12,
   "metadata": {
    "collapsed": false
   },
   "outputs": [
    {
     "name": "stdout",
     "output_type": "stream",
     "text": [
      "Returning DM    Mass\n",
      "Returning DM    Positions\n",
      "12343.4305731 13848.9611061 11202.8891286 [  1.43251064e-02   1.53530965e-02   2.39101610e-02 ...,   5.29716455e+01\n",
      "   5.29717988e+01   5.29718006e+01]\n",
      "Returning GAS   Mass\n",
      "Returning STAR  Mass\n",
      "Returning GAS   Positions\n",
      "Returning STAR  Positions\n",
      "rhalf is 0.643164\n",
      "rmax is 5.159650\n",
      "Returning DM    Mass\n",
      "Returning DM    Positions\n",
      "12342.6608232 13851.0208958 11199.3417098 [  1.46731634e-02   1.71551831e-02   1.78386700e-02 ...,   5.76337031e+01\n",
      "   5.76337939e+01   5.76337979e+01]\n",
      "28.7523744785 41.1819945455\n"
     ]
    }
   ],
   "source": [
    "hnum = '948'\n",
    "res = '_13'\n",
    "ver = '11_13'\n",
    "pathname = '/nobackup/afitts/Gadget-2.0.7/production/mfm%s%s_giz%s_raw_output/analysis/'%(hnum,res,ver)\n",
    "sname = \"/nobackup/afitts/Gadget-2.0.7/production/mfm%s%s_giz%s_raw_output/snapdir_%03d/snapshot_%03d\"%(hnum,res,ver,i,i)\n",
    "hist = np.genfromtxt(pathname+'halo%smerger_hist.txt'%hnum)\n",
    "hymass,hygmass,hysmass,hyx,irhalf, rmax= radpro(pathname,sname,hist,0,0,0)\n",
    "\n",
    "pathname = '/nobackup/afitts/Gadget-2.0.7/production/gizdm%s%s_raw_output/analysis/'%(hnum,res)\n",
    "sname = \"/nobackup/afitts/Gadget-2.0.7/production/gizdm%s%s_raw_output/snapdir_%03d/snapshot_%03d\"%(hnum,res,i,i)\n",
    "hist = np.genfromtxt(pathname+'halo%smerger_hist.txt'%hnum)\n",
    "dmomass,dmox = radpro(pathname,sname,hist,1,irhalf,rmax)\n",
    "#plot_radpro(hnum,hymass,hygmass,hysmass,hyx,dmomass,dmox)"
   ]
  },
  {
   "cell_type": "code",
   "execution_count": 13,
   "metadata": {
    "collapsed": false
   },
   "outputs": [
    {
     "name": "stdout",
     "output_type": "stream",
     "text": [
      "Returning DM    Mass\n",
      "Returning DM    Positions\n",
      "11646.6386387 14159.4043145 12471.6837819 [  3.29538154e-02   3.66121951e-02   4.45153161e-02 ...,   5.51408022e+01\n",
      "   5.51408119e+01   5.51408165e+01]\n",
      "Returning GAS   Mass\n",
      "Returning STAR  Mass\n",
      "Returning GAS   Positions\n",
      "Returning STAR  Positions\n",
      "rhalf is 0.858267\n",
      "rmax is 10.364631\n",
      "Returning DM    Mass\n",
      "Returning DM    Positions\n",
      "11649.6442286 14160.0282536 12471.4758369 [  1.21427523e-02   1.41633283e-02   1.75021440e-02 ...,   6.02957190e+01\n",
      "   6.02957226e+01   6.02957291e+01]\n",
      "25.2618740731 35.1485900186\n"
     ]
    }
   ],
   "source": [
    "hnum = '796'\n",
    "res = '_13'\n",
    "ver = '11_13'\n",
    "pathname = '/nobackup/afitts/Gadget-2.0.7/production/mfm%s%s_giz%s_raw_output/analysis/'%(hnum,res,ver)\n",
    "sname = \"/nobackup/afitts/Gadget-2.0.7/production/mfm%s%s_giz%s_raw_output/snapdir_%03d/snapshot_%03d\"%(hnum,res,ver,i,i)\n",
    "hist = np.genfromtxt(pathname+'halo%smerger_hist.txt'%hnum)\n",
    "hymass,hygmass,hysmass,hyx,irhalf,rmax = radpro(pathname,sname,hist,0,0,0)\n",
    "\n",
    "pathname = '/nobackup/afitts/Gadget-2.0.7/production/gizdm%s%s_raw_output/analysis/'%(hnum,res)\n",
    "sname = \"/nobackup/afitts/Gadget-2.0.7/production/gizdm%s%s_raw_output/snapdir_%03d/snapshot_%03d\"%(hnum,res,i,i)\n",
    "hist = np.genfromtxt(pathname+'halo%smerger_hist.txt'%hnum)\n",
    "dmomass,dmox = radpro(pathname,sname,hist,1,irhalf,rmax)\n",
    "#plot_radpro(hnum,hymass,hygmass,hysmass,hyx,dmomass,dmox)"
   ]
  },
  {
   "cell_type": "code",
   "execution_count": 14,
   "metadata": {
    "collapsed": false
   },
   "outputs": [
    {
     "name": "stdout",
     "output_type": "stream",
     "text": [
      "Returning DM    Mass\n",
      "Returning DM    Positions\n",
      "10940.2019471 14198.6648756 11711.9175472 [  1.03054963e-02   1.44256673e-02   2.05392647e-02 ...,   5.37886147e+01\n",
      "   5.37886621e+01   5.37886726e+01]\n",
      "Returning GAS   Mass\n",
      "Returning STAR  Mass\n",
      "Returning GAS   Positions\n",
      "Returning STAR  Positions\n",
      "rhalf is 0.396480\n",
      "rmax is 9.697754\n",
      "Returning DM    Mass\n",
      "Returning DM    Positions\n",
      "10938.6312057 14199.9534292 11717.1179197 [  2.13523007e-02   2.39225946e-02   2.52067227e-02 ...,   5.78309247e+01\n",
      "   5.78309287e+01   5.78309513e+01]\n",
      "16.973175155 35.5099241931\n"
     ]
    }
   ],
   "source": [
    "hnum = '897'\n",
    "res = '_13'\n",
    "ver = '11_13'\n",
    "pathname = '/nobackup/afitts/Gadget-2.0.7/production/mfm%s%s_giz%s_raw_output/analysis/'%(hnum,res,ver)\n",
    "sname = \"/nobackup/afitts/Gadget-2.0.7/production/mfm%s%s_giz%s_raw_output/snapdir_%03d/snapshot_%03d\"%(hnum,res,ver,i,i)\n",
    "hist = np.genfromtxt(pathname+'halo%smerger_hist.txt'%hnum)\n",
    "hymass,hygmass,hysmass,hyx,irhalf,rmax = radpro(pathname,sname,hist,0,0,0)\n",
    "\n",
    "pathname = '/nobackup/afitts/Gadget-2.0.7/production/gizdm%s%s_raw_output/analysis/'%(hnum,res)\n",
    "sname = \"/nobackup/afitts/Gadget-2.0.7/production/gizdm%s%s_raw_output/snapdir_%03d/snapshot_%03d\"%(hnum,res,i,i)\n",
    "hist = np.genfromtxt(pathname+'halo%smerger_hist.txt'%hnum)\n",
    "dmomass,dmox = radpro(pathname,sname,hist,1,irhalf,rmax)\n",
    "#plot_radpro(hnum,hymass,hygmass,hysmass,hyx,dmomass,dmox)"
   ]
  },
  {
   "cell_type": "code",
   "execution_count": null,
   "metadata": {
    "collapsed": false
   },
   "outputs": [],
   "source": [
    "#hnum = '1016'\n",
    "#res = '_13'\n",
    "#ver = '11_13'\n",
    "#pathname = '/nobackup/afitts/Gadget-2.0.7/production/mfm%s%s_giz%s_raw_output/analysis/'%(hnum,res,ver)\n",
    "#sname = \"/nobackup/afitts/Gadget-2.0.7/production/mfm%s%s_giz%s_raw_output/snapdir_%03d/snapshot_%03d\"%(hnum,res,ver,i,i)\n",
    "#hist = np.genfromtxt(pathname+'halo%smerger_hist.txt'%hnum)\n",
    "#hymass,hygmass,hysmass,hyx,irhalf,rmax = radpro(pathname,sname,hist,0,0,0)\n",
    "\n",
    "#pathname = '/nobackup/afitts/Gadget-2.0.7/production/gizdm%s%s_raw_output/analysis/'%(hnum,res)\n",
    "#sname = \"/nobackup/afitts/Gadget-2.0.7/production/gizdm%s%s_raw_output/snapdir_%03d/snapshot_%03d\"%(hnum,res,i,i)\n",
    "#hist = np.genfromtxt(pathname+'halo%smerger_hist.txt'%hnum)\n",
    "#dmomass,dmox = radpro(pathname,sname,hist,1,irhalf,rmax)\n",
    "#plot_radpro(hnum,hymass,hygmass,hysmass,hyx,dmomass,dmox)"
   ]
  },
  {
   "cell_type": "code",
   "execution_count": null,
   "metadata": {
    "collapsed": true
   },
   "outputs": [],
   "source": [
    "ax1.set_ylabel(\"$v_{circ}$ (km/s)\")\n",
    "ax1.set_xlabel(\"$r_{1/2}$ (kpc)\")\n",
    "ax1.set_title(\"Vcirc v rhalf\")\n",
    "ax1.set_ylim(0,30)\n",
    "ax1.legend(loc=4,prop={'size':8},ncol=1)\n",
    "plt.show()\n",
    "fig1.savefig('vcirc_vs_rhalf_1_14.pdf',transparent=True)"
   ]
  },
  {
   "cell_type": "code",
   "execution_count": null,
   "metadata": {
    "collapsed": true
   },
   "outputs": [],
   "source": []
  }
 ],
 "metadata": {
  "kernelspec": {
   "display_name": "Python 2",
   "language": "python",
   "name": "python2"
  },
  "language_info": {
   "codemirror_mode": {
    "name": "ipython",
    "version": 2
   },
   "file_extension": ".py",
   "mimetype": "text/x-python",
   "name": "python",
   "nbconvert_exporter": "python",
   "pygments_lexer": "ipython2",
   "version": "2.7.9"
  }
 },
 "nbformat": 4,
 "nbformat_minor": 0
}
